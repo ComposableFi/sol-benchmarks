{
  "cells": [
    {
      "cell_type": "code",
      "execution_count": null,
      "metadata": {
        "collapsed": false
      },
      "outputs": [],
      "source": [
        "set_random_seed(1337)\n",
        "\n",
        "F = GF(21888242871839275222246405745257275088696311157297823662689037894645226208583)\n",
        "E = EllipticCurve(F, [0,3])"
      ]
    },
    {
      "cell_type": "code",
      "execution_count": null,
      "metadata": {
        "collapsed": false
      },
      "outputs": [
        {
          "data": {
            "text/plain": [
              "Elliptic Curve defined by y^2 = x^3 + 3 over Finite Field of size 21888242871839275222246405745257275088696311157297823662689037894645226208583"
            ]
          },
          "execution_count": 43,
          "metadata": {},
          "output_type": "execute_result"
        }
      ],
      "source": [
        "E"
      ]
    },
    {
      "cell_type": "code",
      "execution_count": null,
      "metadata": {
        "collapsed": false
      },
      "outputs": [
        {
          "data": {
            "text/plain": [
              "21888242871839275222246405745257275088548364400416034343698204186575808495617"
            ]
          },
          "execution_count": 44,
          "metadata": {},
          "output_type": "execute_result"
        }
      ],
      "source": [
        "E.order()"
      ]
    },
    {
      "cell_type": "code",
      "execution_count": null,
      "metadata": {
        "collapsed": false
      },
      "outputs": [],
      "source": [
        "R.<x> = F[]\n",
        "F2.<u> = F.extension(x^2+1, 'u')"
      ]
    },
    {
      "cell_type": "code",
      "execution_count": null,
      "metadata": {
        "collapsed": false
      },
      "outputs": [
        {
          "data": {
            "text/plain": [
              "Finite Field in u of size 21888242871839275222246405745257275088696311157297823662689037894645226208583^2"
            ]
          },
          "execution_count": 46,
          "metadata": {},
          "output_type": "execute_result"
        }
      ],
      "source": [
        "F2"
      ]
    },
    {
      "cell_type": "code",
      "execution_count": null,
      "metadata": {
        "collapsed": false
      },
      "outputs": [],
      "source": [
        "E2 = EllipticCurve(F2, [0, 3/(u+9)])"
      ]
    },
    {
      "cell_type": "code",
      "execution_count": null,
      "metadata": {
        "collapsed": false
      },
      "outputs": [
        {
          "data": {
            "text/plain": [
              "Elliptic Curve defined by y^2 = x^3 + (266929791119991161246907387137283842545076965332900288569378510910307636690*u+19485874751759354771024239261021720505790618469301721065564631296452457478373) over Finite Field in u of size 21888242871839275222246405745257275088696311157297823662689037894645226208583^2"
            ]
          },
          "execution_count": 48,
          "metadata": {},
          "output_type": "execute_result"
        }
      ],
      "source": [
        "E2"
      ]
    },
    {
      "cell_type": "code",
      "execution_count": null,
      "metadata": {
        "collapsed": false,
        "scrolled": true
      },
      "outputs": [
        {
          "name": "stdout",
          "output_type": "stream",
          "text": [
            "21888242871839275222246405745257275088844257914179612981679871602714643921549\n",
            "253.59669135500215\n"
          ]
        }
      ],
      "source": [
        "cofactor = E2.order()/E.order()\n",
        "print(cofactor)\n",
        "print(float(log(cofactor)/log(2)))"
      ]
    },
    {
      "cell_type": "code",
      "execution_count": null,
      "metadata": {
        "collapsed": false
      },
      "outputs": [],
      "source": [
        "prime_subgroup_order = E.order()\n",
        "assert(prime_subgroup_order.is_prime())\n",
        "H = E(7875458235035678754887153468411793526875066621955642619646139314277366414792, 8106623690154677659962327366078301943507317780154727084061147098569974335996)\n",
        "assert((H*prime_subgroup_order).is_zero())\n",
        "G = -E2(11559732032986387107991004021392285783925812861821192530917403151452391805634*u+10857046999023057135944570762232829481370756359578518086990519993285655852781, 17805874995975841540914202342111839520379459829704422454583296818431106115052*u + 13392588948715843804641432497768002650278120570034223513918757245338268106653)\n",
        "sk1 = F.random_element()\n",
        "pk1_1 = sk1 * H\n",
        "pk1_2 = sk1 * G\n",
        "sk2 = F.random_element()\n",
        "pk2_1 = sk2 * H\n",
        "pk2_2 = sk2 * G\n",
        "sk3 = F.random_element()\n",
        "pk3_1 = sk3 * H\n",
        "pk3_2 = sk3 * G\n",
        "sk4 = F.random_element()\n",
        "pk4_1 = sk4 * H\n",
        "pk4_2 = sk4 * G\n",
        "sk5 = F.random_element()\n",
        "pk5_1 = sk5 * H\n",
        "pk5_2 = sk5 * G"
      ]
    },
    {
      "cell_type": "code",
      "execution_count": null,
      "metadata": {
        "collapsed": false
      },
      "outputs": [],
      "source": [
        "pk_agg = pk1_2 + pk2_2 + pk3_2 + pk4_2 + pk5_2\n",
        "print(pk_agg)\n",
        "\n",
        "print(pk1_1)\n",
        "print(pk2_1)\n",
        "print(pk3_1)\n",
        "print(pk4_1)\n",
        "print(pk5_1)"
      ]
    },
    {
      "attachments": {},
      "cell_type": "markdown",
      "metadata": {},
      "source": [
        "(21323868166032824971863760930365980572558633517350687381808651811396734488576*u + 16107724620565268486113547920743305981763768734799061141659526210098944987773 : 16433815207607945400951820806215735047636210418732248243253706275566161432461*u + 17191993868799457080073200884011434371028798818038581218726308557027693549224 : 1)\n",
        "(4732500246076266494184282090774606989935310339956125703553588050065105269449 : 17680088654892913246817622267030318133161076660043605649300612920347752169327 : 1)\n",
        "(1655578660422496991839058780452835616766416333598975400769190111973908174329 : 16334665185251989719101735311683947808779079810183866863232955457422711503726 : 1)\n",
        "(2158316458707131911275071143380994217088898089732797680826870887849729267568 : 6971679878213161407063319038605172967137805123573869578911796847049132490312 : 1)\n",
        "(8576261527351857515426555337599102506220793565224054175246633932523471367165 : 771009138047006070038011277566814502400921301438466400405133292350688559367 : 1)\n",
        "(19480461969932257876878170265959836028049445961789963553890279675190509712626 : 11888220534482210570021111341257508711127644460450041892325658710707756835077 : 1)"
      ]
    },
    {
      "cell_type": "code",
      "execution_count": null,
      "metadata": {
        "collapsed": false
      },
      "outputs": [],
      "source": [
        "hash = E(11908969602713155885792325199223824932796251344693060287446736124160386244105, 8125181524298305558264259494737771912156876635202174315322828679439024167561) # obtained from contract\n",
        "sig_1 = sk1*hash\n",
        "sig_2 = sk2*hash\n",
        "sig_3 = sk3*hash\n",
        "sig_4 = sk4*hash\n",
        "sig_5 = sk5*hash\n",
        "agg_sig = sig_1 + sig_2 + sig_3 + sig_4 + sig_5\n",
        "print(agg_sig)"
      ]
    },
    {
      "attachments": {},
      "cell_type": "markdown",
      "metadata": {},
      "source": [
        "(18537545182909561107417233428375807555079264596439827079160049762049286502693 : 2329905116482683045662882115211057579645363719330061225100993299826377394399 : 1)"
      ]
    },
    {
      "cell_type": "code",
      "execution_count": null,
      "metadata": {
        "collapsed": false
      },
      "outputs": [
        {
          "name": "stdout",
          "output_type": "stream",
          "text": [
            "(7875458235035678754887153468411793526875066621955642619646139314277366414792 : 8106623690154677659962327366078301943507317780154727084061147098569974335996 : 1)\n"
          ]
        }
      ],
      "source": [
        "print(H)"
      ]
    },
    {
      "cell_type": "code",
      "execution_count": null,
      "metadata": {
        "collapsed": false
      },
      "outputs": [
        {
          "name": "stdout",
          "output_type": "stream",
          "text": [
            "(7875458235035678754887153468411793526875066621955642619646139314277366414792 : 13781619181684597562284078379178973145188993377143096578627890796075251872587 : 1)\n"
          ]
        }
      ],
      "source": [
        "print(-H)"
      ]
    }
  ],
  "metadata": {
    "kernelspec": {
      "display_name": "SageMath 9.6",
      "language": "sagemath",
      "metadata": {
        "cocalc": {
          "description": "Open-source mathematical software system",
          "priority": 1,
          "url": "https://www.sagemath.org/"
        }
      },
      "name": "sage-9.6",
      "resource_dir": "/ext/jupyter/kernels/sage-9.6"
    },
    "language_info": {
      "codemirror_mode": {
        "name": "ipython",
        "version": 3
      },
      "file_extension": ".py",
      "mimetype": "text/x-python",
      "name": "python",
      "nbconvert_exporter": "python",
      "pygments_lexer": "ipython3",
      "version": "3.10.3"
    }
  },
  "nbformat": 4,
  "nbformat_minor": 4
}
