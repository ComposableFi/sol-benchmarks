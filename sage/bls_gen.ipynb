{
 "cells": [
  {
   "cell_type": "code",
   "execution_count": 170,
   "metadata": {},
   "outputs": [],
   "source": [
    "from sage.all import *\n",
    "set_random_seed(1337)\n",
    "\n",
    "F = GF(21888242871839275222246405745257275088696311157297823662689037894645226208583)\n",
    "E = EllipticCurve(F, [0,3])"
   ]
  },
  {
   "cell_type": "code",
   "execution_count": 171,
   "metadata": {},
   "outputs": [
    {
     "data": {
      "text/plain": [
       "Elliptic Curve defined by y^2 = x^3 + 3 over Finite Field of size 21888242871839275222246405745257275088696311157297823662689037894645226208583"
      ]
     },
     "execution_count": 171,
     "metadata": {},
     "output_type": "execute_result"
    }
   ],
   "source": [
    "E"
   ]
  },
  {
   "cell_type": "code",
   "execution_count": 172,
   "metadata": {},
   "outputs": [
    {
     "data": {
      "text/plain": [
       "21888242871839275222246405745257275088548364400416034343698204186575808495617"
      ]
     },
     "execution_count": 172,
     "metadata": {},
     "output_type": "execute_result"
    }
   ],
   "source": [
    "E.order()"
   ]
  },
  {
   "cell_type": "code",
   "execution_count": 173,
   "metadata": {},
   "outputs": [],
   "source": [
    "# R.<x> = F[]\n",
    "# F2.<u> = F.extension(x^2+1, 'u')\n",
    "R = PolynomialRing(F, 'x')\n",
    "x = R.gen()  # Define the variable x\n",
    "F2 = F.extension(R(x**2 + 1), 'u')"
   ]
  },
  {
   "cell_type": "code",
   "execution_count": 174,
   "metadata": {},
   "outputs": [
    {
     "data": {
      "text/plain": [
       "Finite Field in u of size 21888242871839275222246405745257275088696311157297823662689037894645226208583^2"
      ]
     },
     "execution_count": 174,
     "metadata": {},
     "output_type": "execute_result"
    }
   ],
   "source": [
    "F2"
   ]
  },
  {
   "cell_type": "code",
   "execution_count": 175,
   "metadata": {},
   "outputs": [],
   "source": [
    "u = F2.gen()\n",
    "E2 = EllipticCurve(F2, [0, 3/(u+9)])"
   ]
  },
  {
   "cell_type": "code",
   "execution_count": 176,
   "metadata": {},
   "outputs": [
    {
     "data": {
      "text/plain": [
       "Elliptic Curve defined by y^2 = x^3 + (266929791119991161246907387137283842545076965332900288569378510910307636690*u+19485874751759354771024239261021720505790618469301721065564631296452457478373) over Finite Field in u of size 21888242871839275222246405745257275088696311157297823662689037894645226208583^2"
      ]
     },
     "execution_count": 176,
     "metadata": {},
     "output_type": "execute_result"
    }
   ],
   "source": [
    "E2"
   ]
  },
  {
   "cell_type": "code",
   "execution_count": 177,
   "metadata": {
    "scrolled": true
   },
   "outputs": [
    {
     "name": "stdout",
     "output_type": "stream",
     "text": [
      "21888242871839275222246405745257275088844257914179612981679871602714643921549\n",
      "253.59669135500215\n"
     ]
    }
   ],
   "source": [
    "cofactor = E2.order()/E.order()\n",
    "print(cofactor)\n",
    "print(float(log(cofactor)/log(2)))"
   ]
  },
  {
   "cell_type": "code",
   "execution_count": 178,
   "metadata": {},
   "outputs": [],
   "source": [
    "prime_subgroup_order = E.order()\n",
    "assert(prime_subgroup_order.is_prime())\n",
    "H = E(7875458235035678754887153468411793526875066621955642619646139314277366414792, 8106623690154677659962327366078301943507317780154727084061147098569974335996)\n",
    "assert((H*prime_subgroup_order).is_zero())\n",
    "G = -E2(11559732032986387107991004021392285783925812861821192530917403151452391805634*u+10857046999023057135944570762232829481370756359578518086990519993285655852781, 17805874995975841540914202342111839520379459829704422454583296818431106115052*u + 13392588948715843804641432497768002650278120570034223513918757245338268106653)\n",
    "# sk1 = F.random_element()\n",
    "# pk1_1 = sk1 * H\n",
    "# pk1_2 = sk1 * G\n",
    "# sk2 = F.random_element()\n",
    "# pk2_1 = sk2 * H\n",
    "# pk2_2 = sk2 * G\n",
    "# sk3 = F.random_element()\n",
    "# pk3_1 = sk3 * H\n",
    "# pk3_2 = sk3 * G\n",
    "# sk4 = F.random_element()\n",
    "# pk4_1 = sk4 * H\n",
    "# pk4_2 = sk4 * G\n",
    "# sk5 = F.random_element()\n",
    "# pk5_1 = sk5 * H\n",
    "# pk5_2 = sk5 * G\n",
    "sk_list = [F.random_element() for i in range(1,3)]\n",
    "pk_list_1 = [sk*H for sk in sk_list]\n",
    "pk_list_2 = [sk*G for sk in sk_list]"
   ]
  },
  {
   "cell_type": "code",
   "execution_count": 179,
   "metadata": {},
   "outputs": [
    {
     "data": {
      "text/plain": [
       "[16567231074521933084808175538096134177410940536824501867781679153987440980979,\n",
       " 16433994284800415795971117601110663058374094559252941910101033318822290952900]"
      ]
     },
     "execution_count": 179,
     "metadata": {},
     "output_type": "execute_result"
    }
   ],
   "source": [
    "sk_list"
   ]
  },
  {
   "cell_type": "code",
   "execution_count": 180,
   "metadata": {},
   "outputs": [
    {
     "name": "stdout",
     "output_type": "stream",
     "text": [
      "(19525222298104009616876491016641859478269371167286197258132969779795797305743*u + 14178005680273297700635884606972956253020209975180923080212567002716174962641 : 18057896816083435547450502703136613724962816380884002962302407485956668096709*u + 19027518723931341103073785465668576605740970714805850125609708850081760732489 : 1)\n"
     ]
    }
   ],
   "source": [
    "# pk_agg = pk1_2 + pk2_2 + pk3_2 + pk4_2 + pk5_2\n",
    "# print(pk_agg)\n",
    "\n",
    "# print(pk1_1)\n",
    "# print(pk2_1)\n",
    "# print(pk3_1)\n",
    "# print(pk4_1)\n",
    "# print(pk5_1)\n",
    "agg_pk_2 = sum(pk_list_2)\n",
    "print(agg_pk_2)"
   ]
  },
  {
   "cell_type": "code",
   "execution_count": 181,
   "metadata": {},
   "outputs": [
    {
     "name": "stdout",
     "output_type": "stream",
     "text": [
      "[(4732500246076266494184282090774606989935310339956125703553588050065105269449 : 17680088654892913246817622267030318133161076660043605649300612920347752169327 : 1), (1655578660422496991839058780452835616766416333598975400769190111973908174329 : 16334665185251989719101735311683947808779079810183866863232955457422711503726 : 1)]\n"
     ]
    }
   ],
   "source": [
    "print(pk_list_1)"
   ]
  },
  {
   "cell_type": "code",
   "execution_count": 182,
   "metadata": {},
   "outputs": [
    {
     "name": "stdout",
     "output_type": "stream",
     "text": [
      "[(7213271928087200477012105215412834192840570626430165547314586523775563967511*u + 14847134387469823739633811332949734517469581809756491178517251524465817151762 : 13873571097610134283427953261151144627555637484689267991168646033475964141100*u + 15452641738410371073950136834564804866202521258920066488653795924084242914297 : 1), (17635660971544041952906337482771547071799917935032183374749368584914399686235*u + 13436542172379353921772151102872602102536879070058168886121612894881852562744 : 16229390874406689437697329421855826200648573420138539808444355121221753350587*u + 1249242592881582418440419773443842657837794481520517656556149508833803285540 : 1)]\n"
     ]
    }
   ],
   "source": [
    "print(pk_list_2)"
   ]
  },
  {
   "cell_type": "markdown",
   "metadata": {},
   "source": [
    "(21323868166032824971863760930365980572558633517350687381808651811396734488576*u + 16107724620565268486113547920743305981763768734799061141659526210098944987773 : 16433815207607945400951820806215735047636210418732248243253706275566161432461*u + 17191993868799457080073200884011434371028798818038581218726308557027693549224 : 1)\n",
    "(4732500246076266494184282090774606989935310339956125703553588050065105269449 : 17680088654892913246817622267030318133161076660043605649300612920347752169327 : 1)\n",
    "(1655578660422496991839058780452835616766416333598975400769190111973908174329 : 16334665185251989719101735311683947808779079810183866863232955457422711503726 : 1)\n",
    "(2158316458707131911275071143380994217088898089732797680826870887849729267568 : 6971679878213161407063319038605172967137805123573869578911796847049132490312 : 1)\n",
    "(8576261527351857515426555337599102506220793565224054175246633932523471367165 : 771009138047006070038011277566814502400921301438466400405133292350688559367 : 1)\n",
    "(19480461969932257876878170265959836028049445961789963553890279675190509712626 : 11888220534482210570021111341257508711127644460450041892325658710707756835077 : 1)"
   ]
  },
  {
   "cell_type": "code",
   "execution_count": 188,
   "metadata": {},
   "outputs": [
    {
     "name": "stdout",
     "output_type": "stream",
     "text": [
      "(554154164707031964490016982288389760333076569642107161770717840840625987591 : 11525108219002783421153920602684073398755456370068761358891552874420703480586 : 1)\n"
     ]
    }
   ],
   "source": [
    "hash = E(6135602913636993795377317389729230788352309297020464829384557377335482449205, 12585729995041857425225754809506572190273414443871135026666323654318986719388) # obtained from contract; hex msg here is \"abcd\"\n",
    "# sig_1 = sk1*hash\n",
    "# sig_2 = sk2*hash\n",
    "# sig_3 = sk3*hash\n",
    "# sig_4 = sk4*hash\n",
    "# sig_5 = sk5*hash\n",
    "# agg_sig = sig_1 + sig_2 + sig_3 + sig_4 + sig_5\n",
    "# print(agg_sig)\n",
    "sig_list = [sk*hash for sk in sk_list]\n",
    "agg_sig = sum(sig_list)\n",
    "print(agg_sig)"
   ]
  },
  {
   "cell_type": "markdown",
   "metadata": {},
   "source": [
    "(18537545182909561107417233428375807555079264596439827079160049762049286502693 : 2329905116482683045662882115211057579645363719330061225100993299826377394399 : 1)"
   ]
  },
  {
   "cell_type": "code",
   "execution_count": 184,
   "metadata": {},
   "outputs": [
    {
     "name": "stdout",
     "output_type": "stream",
     "text": [
      "(7875458235035678754887153468411793526875066621955642619646139314277366414792 : 8106623690154677659962327366078301943507317780154727084061147098569974335996 : 1)\n"
     ]
    }
   ],
   "source": [
    "print(H)"
   ]
  },
  {
   "cell_type": "code",
   "execution_count": 185,
   "metadata": {},
   "outputs": [
    {
     "name": "stdout",
     "output_type": "stream",
     "text": [
      "(7875458235035678754887153468411793526875066621955642619646139314277366414792 : 13781619181684597562284078379178973145188993377143096578627890796075251872587 : 1)\n"
     ]
    }
   ],
   "source": [
    "print(-H)"
   ]
  },
  {
   "cell_type": "code",
   "execution_count": 187,
   "metadata": {},
   "outputs": [
    {
     "name": "stdout",
     "output_type": "stream",
     "text": [
      "1db4d038b29631603b12dc3024f6018021fa86a69b2845e470520e02297e1d3826fd6e2d788c6bdacd0ef4d03c8401f946fbf260c501f9c7280cf407b0b06e5b02c30bd717987f5fc4c22bd75b3de5ce20977a95cbf81c24915ed24badd0b42423e1827c885836345bf24098cfc75dc43095495beaded2416a35ec55a83fa9bb\n"
     ]
    }
   ],
   "source": [
    "# public key and signature encoding\n",
    "from eth_abi import encode\n",
    "\n",
    "# Example public key as a tuple of uint256 values (x, y)\n",
    "public_key = (\n",
    "  13436542172379353921772151102872602102536879070058168886121612894881852562744,\n",
    "  17635660971544041952906337482771547071799917935032183374749368584914399686235,\n",
    "  1249242592881582418440419773443842657837794481520517656556149508833803285540,\n",
    "  16229390874406689437697329421855826200648573420138539808444355121221753350587\n",
    ")\n",
    "\n",
    "encoded_public_key = encode(['uint256[4]'], [public_key])\n",
    "hex_public_key = encoded_public_key.hex()\n",
    "\n",
    "print(hex_public_key)\n"
   ]
  },
  {
   "cell_type": "code",
   "execution_count": 169,
   "metadata": {},
   "outputs": [
    {
     "name": "stdout",
     "output_type": "stream",
     "text": [
      "(14786876435994380746895550254733299274680917208182379846575385470688952631863, 21213991751949258803455069472005065461526798917700009281428444788907179609145, 12538350795707425542852411509448470754909604259981102634775689082900141061628, 11485417490859173982470229636812206586619860652916990823104461832708754785810)\n"
     ]
    }
   ],
   "source": [
    "# public key and signature decoding (uint 2 for sig; 4 for pkey)\n",
    "from eth_abi import decode\n",
    "\n",
    "hex_signature = \"20b113524229f20257b1f3bc9a8597a3dfea9c11fc8f69a0e83594b797b4c2372ee6b19ede9fb08376f90ce28df8e0faf2a28e895c8574b7be30df3d0e498c391bb8747ee8bdbb32cd99d1ded984dbee2b1ba2d36b01425984844ba231b035fc1964841400c9adf517358909818fc848cda50424757fa6008cb2564749fc4612\"\n",
    "signature_bytes = bytes.fromhex(hex_signature)\n",
    "\n",
    "signature = decode(['uint256[4]'], signature_bytes)\n",
    "print(signature[0])\n"
   ]
  },
  {
   "cell_type": "code",
   "execution_count": null,
   "metadata": {},
   "outputs": [],
   "source": []
  }
 ],
 "metadata": {
  "kernelspec": {
   "display_name": "Python 3 (ipykernel)",
   "language": "python",
   "name": "python3"
  },
  "language_info": {
   "codemirror_mode": {
    "name": "ipython",
    "version": 3
   },
   "file_extension": ".py",
   "mimetype": "text/x-python",
   "name": "python",
   "nbconvert_exporter": "python",
   "pygments_lexer": "ipython3",
   "version": "3.11.1"
  },
  "vscode": {
   "interpreter": {
    "hash": "31f2aee4e71d21fbe5cf8b01ff0e069b9275f58929596ceb00d14d90e3e16cd6"
   }
  }
 },
 "nbformat": 4,
 "nbformat_minor": 4
}
